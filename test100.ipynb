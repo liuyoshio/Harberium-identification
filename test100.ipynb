{
 "cells": [
  {
   "cell_type": "code",
   "execution_count": 1,
   "metadata": {},
   "outputs": [],
   "source": [
    "import pandas as pd\n",
    "import numpy as np\n",
    "import json\n",
    "import matplotlib.pyplot as plt\n",
    "import seaborn as sns\n",
    "import cv2\n",
    "import torch\n",
    "import torch.nn as nn\n",
    "import torchvision\n",
    "import torchvision.transforms as transforms\n",
    "from torch.utils.data import Dataset, DataLoader\n",
    "from PIL import Image\n",
    "import model_utils\n",
    "utils = model_utils.utils()"
   ]
  },
  {
   "cell_type": "code",
   "execution_count": 2,
   "metadata": {},
   "outputs": [
    {
     "data": {
      "text/html": [
       "<div>\n",
       "<style scoped>\n",
       "    .dataframe tbody tr th:only-of-type {\n",
       "        vertical-align: middle;\n",
       "    }\n",
       "\n",
       "    .dataframe tbody tr th {\n",
       "        vertical-align: top;\n",
       "    }\n",
       "\n",
       "    .dataframe thead th {\n",
       "        text-align: right;\n",
       "    }\n",
       "</style>\n",
       "<table border=\"1\" class=\"dataframe\">\n",
       "  <thead>\n",
       "    <tr style=\"text-align: right;\">\n",
       "      <th></th>\n",
       "      <th>image_id</th>\n",
       "      <th>image_dir</th>\n",
       "      <th>category</th>\n",
       "      <th>genus</th>\n",
       "    </tr>\n",
       "  </thead>\n",
       "  <tbody>\n",
       "    <tr>\n",
       "      <th>0</th>\n",
       "      <td>00000__001</td>\n",
       "      <td>/Volumes/T7/herbarium-2022-fgvc9/train_images/...</td>\n",
       "      <td>0</td>\n",
       "      <td>1</td>\n",
       "    </tr>\n",
       "    <tr>\n",
       "      <th>1</th>\n",
       "      <td>00000__002</td>\n",
       "      <td>/Volumes/T7/herbarium-2022-fgvc9/train_images/...</td>\n",
       "      <td>0</td>\n",
       "      <td>1</td>\n",
       "    </tr>\n",
       "    <tr>\n",
       "      <th>2</th>\n",
       "      <td>00000__003</td>\n",
       "      <td>/Volumes/T7/herbarium-2022-fgvc9/train_images/...</td>\n",
       "      <td>0</td>\n",
       "      <td>1</td>\n",
       "    </tr>\n",
       "    <tr>\n",
       "      <th>3</th>\n",
       "      <td>00000__004</td>\n",
       "      <td>/Volumes/T7/herbarium-2022-fgvc9/train_images/...</td>\n",
       "      <td>0</td>\n",
       "      <td>1</td>\n",
       "    </tr>\n",
       "    <tr>\n",
       "      <th>4</th>\n",
       "      <td>00000__005</td>\n",
       "      <td>/Volumes/T7/herbarium-2022-fgvc9/train_images/...</td>\n",
       "      <td>0</td>\n",
       "      <td>1</td>\n",
       "    </tr>\n",
       "    <tr>\n",
       "      <th>...</th>\n",
       "      <td>...</td>\n",
       "      <td>...</td>\n",
       "      <td>...</td>\n",
       "      <td>...</td>\n",
       "    </tr>\n",
       "    <tr>\n",
       "      <th>839767</th>\n",
       "      <td>15504__032</td>\n",
       "      <td>/Volumes/T7/herbarium-2022-fgvc9/train_images/...</td>\n",
       "      <td>15504</td>\n",
       "      <td>2584</td>\n",
       "    </tr>\n",
       "    <tr>\n",
       "      <th>839768</th>\n",
       "      <td>15504__033</td>\n",
       "      <td>/Volumes/T7/herbarium-2022-fgvc9/train_images/...</td>\n",
       "      <td>15504</td>\n",
       "      <td>2584</td>\n",
       "    </tr>\n",
       "    <tr>\n",
       "      <th>839769</th>\n",
       "      <td>15504__035</td>\n",
       "      <td>/Volumes/T7/herbarium-2022-fgvc9/train_images/...</td>\n",
       "      <td>15504</td>\n",
       "      <td>2584</td>\n",
       "    </tr>\n",
       "    <tr>\n",
       "      <th>839770</th>\n",
       "      <td>15504__036</td>\n",
       "      <td>/Volumes/T7/herbarium-2022-fgvc9/train_images/...</td>\n",
       "      <td>15504</td>\n",
       "      <td>2584</td>\n",
       "    </tr>\n",
       "    <tr>\n",
       "      <th>839771</th>\n",
       "      <td>15504__037</td>\n",
       "      <td>/Volumes/T7/herbarium-2022-fgvc9/train_images/...</td>\n",
       "      <td>15504</td>\n",
       "      <td>2584</td>\n",
       "    </tr>\n",
       "  </tbody>\n",
       "</table>\n",
       "<p>839772 rows × 4 columns</p>\n",
       "</div>"
      ],
      "text/plain": [
       "          image_id                                          image_dir  \\\n",
       "0       00000__001  /Volumes/T7/herbarium-2022-fgvc9/train_images/...   \n",
       "1       00000__002  /Volumes/T7/herbarium-2022-fgvc9/train_images/...   \n",
       "2       00000__003  /Volumes/T7/herbarium-2022-fgvc9/train_images/...   \n",
       "3       00000__004  /Volumes/T7/herbarium-2022-fgvc9/train_images/...   \n",
       "4       00000__005  /Volumes/T7/herbarium-2022-fgvc9/train_images/...   \n",
       "...            ...                                                ...   \n",
       "839767  15504__032  /Volumes/T7/herbarium-2022-fgvc9/train_images/...   \n",
       "839768  15504__033  /Volumes/T7/herbarium-2022-fgvc9/train_images/...   \n",
       "839769  15504__035  /Volumes/T7/herbarium-2022-fgvc9/train_images/...   \n",
       "839770  15504__036  /Volumes/T7/herbarium-2022-fgvc9/train_images/...   \n",
       "839771  15504__037  /Volumes/T7/herbarium-2022-fgvc9/train_images/...   \n",
       "\n",
       "        category  genus  \n",
       "0              0      1  \n",
       "1              0      1  \n",
       "2              0      1  \n",
       "3              0      1  \n",
       "4              0      1  \n",
       "...          ...    ...  \n",
       "839767     15504   2584  \n",
       "839768     15504   2584  \n",
       "839769     15504   2584  \n",
       "839770     15504   2584  \n",
       "839771     15504   2584  \n",
       "\n",
       "[839772 rows x 4 columns]"
      ]
     },
     "execution_count": 2,
     "metadata": {},
     "output_type": "execute_result"
    }
   ],
   "source": [
    "train_dir = '/Volumes/T7/herbarium-2022-fgvc9/train_images/'\n",
    "test_dir = '/Volumes/T7/herbarium-2022-fgvc9/test_images/'\n",
    "\n",
    "with open('/Volumes/T7/herbarium-2022-fgvc9/train_metadata.json') as json_file:\n",
    "    train_meta = json.load(json_file)\n",
    "with open(\"/Volumes/T7/herbarium-2022-fgvc9/test_metadata.json\") as json_file:\n",
    "    test_meta = json.load(json_file)\n",
    "\n",
    "image_ids = [image[\"image_id\"] for image in train_meta[\"images\"]]\n",
    "image_dirs = [train_dir + image['file_name'] for image in train_meta[\"images\"]]\n",
    "category_ids = [annotation['category_id'] for annotation in train_meta['annotations']]\n",
    "genus_ids = [annotation['genus_id'] for annotation in train_meta['annotations']]\n",
    "\n",
    "test_ids = [image['image_id'] for image in test_meta]\n",
    "test_dirs = [test_dir + image['file_name'] for image in test_meta]\n",
    "\n",
    "train_df = pd.DataFrame({\n",
    "    \"image_id\" : image_ids,\n",
    "    \"image_dir\" : image_dirs,\n",
    "    \"category\" : category_ids,\n",
    "    \"genus\" : genus_ids})\n",
    "\n",
    "test_df = pd.DataFrame({\n",
    "    \"test_id\" : test_ids,\n",
    "    \"test_dir\" : test_dirs\n",
    "})\n",
    "\n",
    "train_df"
   ]
  },
  {
   "cell_type": "code",
   "execution_count": 3,
   "metadata": {},
   "outputs": [
    {
     "data": {
      "text/html": [
       "<div>\n",
       "<style scoped>\n",
       "    .dataframe tbody tr th:only-of-type {\n",
       "        vertical-align: middle;\n",
       "    }\n",
       "\n",
       "    .dataframe tbody tr th {\n",
       "        vertical-align: top;\n",
       "    }\n",
       "\n",
       "    .dataframe thead th {\n",
       "        text-align: right;\n",
       "    }\n",
       "</style>\n",
       "<table border=\"1\" class=\"dataframe\">\n",
       "  <thead>\n",
       "    <tr style=\"text-align: right;\">\n",
       "      <th></th>\n",
       "      <th>image_id</th>\n",
       "      <th>image_dir</th>\n",
       "      <th>category</th>\n",
       "      <th>genus</th>\n",
       "    </tr>\n",
       "  </thead>\n",
       "  <tbody>\n",
       "    <tr>\n",
       "      <th>0</th>\n",
       "      <td>00000__001</td>\n",
       "      <td>/Volumes/T7/herbarium-2022-fgvc9/train_images/...</td>\n",
       "      <td>0</td>\n",
       "      <td>Abies</td>\n",
       "    </tr>\n",
       "    <tr>\n",
       "      <th>1</th>\n",
       "      <td>00000__002</td>\n",
       "      <td>/Volumes/T7/herbarium-2022-fgvc9/train_images/...</td>\n",
       "      <td>0</td>\n",
       "      <td>Abies</td>\n",
       "    </tr>\n",
       "    <tr>\n",
       "      <th>2</th>\n",
       "      <td>00000__003</td>\n",
       "      <td>/Volumes/T7/herbarium-2022-fgvc9/train_images/...</td>\n",
       "      <td>0</td>\n",
       "      <td>Abies</td>\n",
       "    </tr>\n",
       "    <tr>\n",
       "      <th>3</th>\n",
       "      <td>00000__004</td>\n",
       "      <td>/Volumes/T7/herbarium-2022-fgvc9/train_images/...</td>\n",
       "      <td>0</td>\n",
       "      <td>Abies</td>\n",
       "    </tr>\n",
       "    <tr>\n",
       "      <th>4</th>\n",
       "      <td>00000__005</td>\n",
       "      <td>/Volumes/T7/herbarium-2022-fgvc9/train_images/...</td>\n",
       "      <td>0</td>\n",
       "      <td>Abies</td>\n",
       "    </tr>\n",
       "    <tr>\n",
       "      <th>...</th>\n",
       "      <td>...</td>\n",
       "      <td>...</td>\n",
       "      <td>...</td>\n",
       "      <td>...</td>\n",
       "    </tr>\n",
       "    <tr>\n",
       "      <th>839767</th>\n",
       "      <td>15504__032</td>\n",
       "      <td>/Volumes/T7/herbarium-2022-fgvc9/train_images/...</td>\n",
       "      <td>15504</td>\n",
       "      <td>Zygophyllum</td>\n",
       "    </tr>\n",
       "    <tr>\n",
       "      <th>839768</th>\n",
       "      <td>15504__033</td>\n",
       "      <td>/Volumes/T7/herbarium-2022-fgvc9/train_images/...</td>\n",
       "      <td>15504</td>\n",
       "      <td>Zygophyllum</td>\n",
       "    </tr>\n",
       "    <tr>\n",
       "      <th>839769</th>\n",
       "      <td>15504__035</td>\n",
       "      <td>/Volumes/T7/herbarium-2022-fgvc9/train_images/...</td>\n",
       "      <td>15504</td>\n",
       "      <td>Zygophyllum</td>\n",
       "    </tr>\n",
       "    <tr>\n",
       "      <th>839770</th>\n",
       "      <td>15504__036</td>\n",
       "      <td>/Volumes/T7/herbarium-2022-fgvc9/train_images/...</td>\n",
       "      <td>15504</td>\n",
       "      <td>Zygophyllum</td>\n",
       "    </tr>\n",
       "    <tr>\n",
       "      <th>839771</th>\n",
       "      <td>15504__037</td>\n",
       "      <td>/Volumes/T7/herbarium-2022-fgvc9/train_images/...</td>\n",
       "      <td>15504</td>\n",
       "      <td>Zygophyllum</td>\n",
       "    </tr>\n",
       "  </tbody>\n",
       "</table>\n",
       "<p>839772 rows × 4 columns</p>\n",
       "</div>"
      ],
      "text/plain": [
       "          image_id                                          image_dir  \\\n",
       "0       00000__001  /Volumes/T7/herbarium-2022-fgvc9/train_images/...   \n",
       "1       00000__002  /Volumes/T7/herbarium-2022-fgvc9/train_images/...   \n",
       "2       00000__003  /Volumes/T7/herbarium-2022-fgvc9/train_images/...   \n",
       "3       00000__004  /Volumes/T7/herbarium-2022-fgvc9/train_images/...   \n",
       "4       00000__005  /Volumes/T7/herbarium-2022-fgvc9/train_images/...   \n",
       "...            ...                                                ...   \n",
       "839767  15504__032  /Volumes/T7/herbarium-2022-fgvc9/train_images/...   \n",
       "839768  15504__033  /Volumes/T7/herbarium-2022-fgvc9/train_images/...   \n",
       "839769  15504__035  /Volumes/T7/herbarium-2022-fgvc9/train_images/...   \n",
       "839770  15504__036  /Volumes/T7/herbarium-2022-fgvc9/train_images/...   \n",
       "839771  15504__037  /Volumes/T7/herbarium-2022-fgvc9/train_images/...   \n",
       "\n",
       "        category        genus  \n",
       "0              0        Abies  \n",
       "1              0        Abies  \n",
       "2              0        Abies  \n",
       "3              0        Abies  \n",
       "4              0        Abies  \n",
       "...          ...          ...  \n",
       "839767     15504  Zygophyllum  \n",
       "839768     15504  Zygophyllum  \n",
       "839769     15504  Zygophyllum  \n",
       "839770     15504  Zygophyllum  \n",
       "839771     15504  Zygophyllum  \n",
       "\n",
       "[839772 rows x 4 columns]"
      ]
     },
     "execution_count": 3,
     "metadata": {},
     "output_type": "execute_result"
    }
   ],
   "source": [
    "genus_map = {genus['genus_id'] : genus['genus'] for genus in train_meta['genera']}\n",
    "train_df['genus'] = train_df['genus'].map(genus_map)\n",
    "train_df"
   ]
  },
  {
   "cell_type": "code",
   "execution_count": 4,
   "metadata": {},
   "outputs": [],
   "source": [
    "train_df = train_df[:5850]"
   ]
  },
  {
   "cell_type": "code",
   "execution_count": 5,
   "metadata": {},
   "outputs": [
    {
     "data": {
      "text/plain": [
       "101"
      ]
     },
     "execution_count": 5,
     "metadata": {},
     "output_type": "execute_result"
    }
   ],
   "source": [
    "N_Classes = train_df['category'].nunique()\n",
    "N_Classes"
   ]
  },
  {
   "cell_type": "code",
   "execution_count": 6,
   "metadata": {},
   "outputs": [],
   "source": [
    "X_Train, Y_Train = train_df['image_dir'].values, train_df['category'].values\n",
    "\n",
    "class GetData(Dataset):\n",
    "    def __init__(self, FNames, Labels, Transform):\n",
    "        self.fnames = FNames\n",
    "        self.transform = Transform\n",
    "        self.labels = Labels         \n",
    "        \n",
    "    def __len__(self):\n",
    "        return len(self.fnames)\n",
    "\n",
    "    def __getitem__(self, index):       \n",
    "        #x = Image.open(self.fnames[index])\n",
    "        x = cv2.imread(self.fnames[index])\n",
    "        \n",
    "        \n",
    "        if \"train\" in self.fnames[index]:             \n",
    "            return self.transform(x), self.labels[index]\n",
    "        elif \"test\" in self.fnames[index]:            \n",
    "            return self.transform(x), self.fnames[index]\n",
    "                \n",
    "trainset = GetData(X_Train, Y_Train, utils.Transform)\n"
   ]
  },
  {
   "cell_type": "code",
   "execution_count": 7,
   "metadata": {},
   "outputs": [],
   "source": [
    "from torch.utils.data.sampler import SubsetRandomSampler\n",
    "from torch.utils.data.dataloader import DataLoader\n",
    "\n",
    "def split_indices(n, val_pct=0.1, seed=99):\n",
    "    n_val = int(val_pct*n)\n",
    "    np.random.seed(seed)\n",
    "    idxs = np.random.permutation(n)\n",
    "    return idxs[n_val:], idxs[:n_val]\n",
    "\n",
    "train_indices, val_indices = split_indices(len(trainset))\n",
    "\n",
    "train_sampler = SubsetRandomSampler(train_indices)\n",
    "train_dl = DataLoader(trainset, batch_size=utils.BATCH, sampler=train_sampler)\n",
    "\n",
    "val_sampler = SubsetRandomSampler(val_indices)\n",
    "val_dl = DataLoader(trainset, batch_size=utils.BATCH, sampler=val_sampler)"
   ]
  },
  {
   "cell_type": "code",
   "execution_count": 8,
   "metadata": {},
   "outputs": [
    {
     "data": {
      "text/plain": [
       "165"
      ]
     },
     "execution_count": 8,
     "metadata": {},
     "output_type": "execute_result"
    }
   ],
   "source": [
    "len(train_dl)"
   ]
  },
  {
   "cell_type": "code",
   "execution_count": 14,
   "metadata": {},
   "outputs": [
    {
     "name": "stdout",
     "output_type": "stream",
     "text": [
      "1664\n",
      "1000\n",
      "101\n"
     ]
    }
   ],
   "source": [
    "device = torch.device('cuda:0' if torch.cuda.is_available() else 'cpu')\n",
    "model = torchvision.models.densenet169(pretrained=True)\n",
    "\n",
    "print(model.classifier.in_features) \n",
    "print(model.classifier.out_features)\n",
    "\n",
    "for param in model.parameters():\n",
    "    param.requires_grad = False\n",
    "    \n",
    "n_inputs = model.classifier.in_features\n",
    "last_layer = nn.Linear(n_inputs, N_Classes)\n",
    "model.classifier = last_layer\n",
    "\n",
    "if torch.cuda.is_available():\n",
    "    model.cuda()\n",
    "print(model.classifier.out_features)    \n",
    "\n",
    "criterion = nn.CrossEntropyLoss()\n",
    "optimizer = torch.optim.Adam(model.classifier.parameters())\n"
   ]
  },
  {
   "cell_type": "code",
   "execution_count": 15,
   "metadata": {},
   "outputs": [],
   "source": [
    "training_history = {'accuracy':[],'loss':[]}\n",
    "validation_history = {'accuracy':[],'loss':[]}\n",
    "\n",
    "from tqdm import tqdm\n",
    "\n",
    "def train(trainloader, model, criterion, optimizer, scaler, device=torch.device(device)):\n",
    "    train_acc = 0.0\n",
    "    train_loss = 0.0\n",
    "    model.train()\n",
    "    for images, labels in tqdm(train_dl):\n",
    "        images = images.to(device)\n",
    "        labels = labels.to(device)\n",
    "        optimizer.zero_grad()\n",
    "        with torch.cuda.amp.autocast(enabled=True):\n",
    "            output = model(images)\n",
    "            loss = criterion(output, labels)\n",
    "            scaler.scale(loss).backward()\n",
    "            scaler.step(optimizer)\n",
    "            scaler.update()\n",
    "            acc = ((output.argmax(dim=1) == labels).float().mean())\n",
    "            train_acc += acc\n",
    "            train_loss += loss\n",
    "            del output\n",
    "            del loss\n",
    "    return train_acc/len(trainloader), train_loss/len(trainloader)\n",
    "\n",
    "def evaluate(testloader, model, criterion, device=torch.device(device)):\n",
    "    eval_acc = 0.0\n",
    "    eval_loss = 0.0\n",
    "    model.eval()\n",
    "    for images, labels in tqdm(val_dl):\n",
    "        images = images.to(device)\n",
    "        labels = labels.to(device)\n",
    "        with torch.no_grad():\n",
    "            output = model(images)\n",
    "            loss = criterion(output, labels)\n",
    "\n",
    "        acc = ((output.argmax(dim=1) == labels).float().mean())\n",
    "        eval_acc += acc\n",
    "        eval_loss += loss\n",
    "        del output\n",
    "        del loss\n",
    "  \n",
    "    return eval_acc/len(testloader), eval_loss/len(testloader)\n"
   ]
  },
  {
   "cell_type": "code",
   "execution_count": 12,
   "metadata": {},
   "outputs": [],
   "source": [
    "model = torch.load('./model.pth')"
   ]
  },
  {
   "cell_type": "code",
   "execution_count": 16,
   "metadata": {},
   "outputs": [
    {
     "name": "stderr",
     "output_type": "stream",
     "text": [
      "100%|██████████| 165/165 [17:03<00:00,  6.20s/it]\n",
      "100%|██████████| 19/19 [01:39<00:00,  5.25s/it]\n"
     ]
    },
    {
     "name": "stdout",
     "output_type": "stream",
     "text": [
      "\n",
      "Epoch 1 | Train Acc: 14.723708152770996 | Train Loss: 3.9076082706451416\n",
      "\t Val Acc: 29.3128662109375 | Val Loss: 3.1049604415893555\n",
      "================================\n"
     ]
    },
    {
     "name": "stderr",
     "output_type": "stream",
     "text": [
      "100%|██████████| 165/165 [18:10<00:00,  6.61s/it]\n",
      "100%|██████████| 19/19 [01:39<00:00,  5.25s/it]\n"
     ]
    },
    {
     "name": "stdout",
     "output_type": "stream",
     "text": [
      "\n",
      "Epoch 2 | Train Acc: 41.604278564453125 | Train Loss: 2.6064374446868896\n",
      "\t Val Acc: 36.71417999267578 | Val Loss: 2.6410915851593018\n",
      "================================\n"
     ]
    },
    {
     "name": "stderr",
     "output_type": "stream",
     "text": [
      "100%|██████████| 165/165 [16:06<00:00,  5.86s/it]\n",
      "100%|██████████| 19/19 [01:41<00:00,  5.34s/it]\n"
     ]
    },
    {
     "name": "stdout",
     "output_type": "stream",
     "text": [
      "\n",
      "Epoch 3 | Train Acc: 53.18292999267578 | Train Loss: 2.029475212097168\n",
      "\t Val Acc: 37.35380172729492 | Val Loss: 2.399686813354492\n",
      "================================\n"
     ]
    },
    {
     "name": "stderr",
     "output_type": "stream",
     "text": [
      "100%|██████████| 165/165 [16:31<00:00,  6.01s/it]\n",
      "100%|██████████| 19/19 [01:39<00:00,  5.22s/it]\n"
     ]
    },
    {
     "name": "stdout",
     "output_type": "stream",
     "text": [
      "\n",
      "Epoch 4 | Train Acc: 61.476158142089844 | Train Loss: 1.6736091375350952\n",
      "\t Val Acc: 40.917396545410156 | Val Loss: 2.235095977783203\n",
      "================================\n"
     ]
    },
    {
     "name": "stderr",
     "output_type": "stream",
     "text": [
      "100%|██████████| 165/165 [16:03<00:00,  5.84s/it]\n",
      "100%|██████████| 19/19 [01:38<00:00,  5.21s/it]\n"
     ]
    },
    {
     "name": "stdout",
     "output_type": "stream",
     "text": [
      "\n",
      "Epoch 5 | Train Acc: 67.09893035888672 | Train Loss: 1.421256184577942\n",
      "\t Val Acc: 42.19663619995117 | Val Loss: 2.1590614318847656\n",
      "================================\n"
     ]
    },
    {
     "name": "stderr",
     "output_type": "stream",
     "text": [
      "100%|██████████| 165/165 [16:01<00:00,  5.83s/it]\n",
      "100%|██████████| 19/19 [01:40<00:00,  5.28s/it]\n"
     ]
    },
    {
     "name": "stdout",
     "output_type": "stream",
     "text": [
      "\n",
      "Epoch 6 | Train Acc: 71.6544189453125 | Train Loss: 1.2503597736358643\n",
      "\t Val Acc: 44.206871032714844 | Val Loss: 2.0895731449127197\n",
      "================================\n"
     ]
    },
    {
     "name": "stderr",
     "output_type": "stream",
     "text": [
      "100%|██████████| 165/165 [16:03<00:00,  5.84s/it]\n",
      "100%|██████████| 19/19 [01:39<00:00,  5.24s/it]\n"
     ]
    },
    {
     "name": "stdout",
     "output_type": "stream",
     "text": [
      "\n",
      "Epoch 7 | Train Acc: 75.38993072509766 | Train Loss: 1.1004281044006348\n",
      "\t Val Acc: 46.50950241088867 | Val Loss: 2.042179584503174\n",
      "================================\n"
     ]
    },
    {
     "name": "stderr",
     "output_type": "stream",
     "text": [
      "100%|██████████| 165/165 [16:03<00:00,  5.84s/it]\n",
      "100%|██████████| 19/19 [01:39<00:00,  5.23s/it]\n"
     ]
    },
    {
     "name": "stdout",
     "output_type": "stream",
     "text": [
      "\n",
      "Epoch 8 | Train Acc: 77.91332244873047 | Train Loss: 0.9813329577445984\n",
      "\t Val Acc: 46.16228103637695 | Val Loss: 2.046283006668091\n",
      "================================\n"
     ]
    },
    {
     "name": "stderr",
     "output_type": "stream",
     "text": [
      "100%|██████████| 165/165 [16:01<00:00,  5.83s/it]\n",
      "100%|██████████| 19/19 [01:39<00:00,  5.22s/it]\n"
     ]
    },
    {
     "name": "stdout",
     "output_type": "stream",
     "text": [
      "\n",
      "Epoch 9 | Train Acc: 81.698974609375 | Train Loss: 0.8724714517593384\n",
      "\t Val Acc: 45.32163619995117 | Val Loss: 2.0078742504119873\n",
      "================================\n"
     ]
    },
    {
     "name": "stderr",
     "output_type": "stream",
     "text": [
      "100%|██████████| 165/165 [15:59<00:00,  5.82s/it]\n",
      "100%|██████████| 19/19 [01:38<00:00,  5.19s/it]"
     ]
    },
    {
     "name": "stdout",
     "output_type": "stream",
     "text": [
      "\n",
      "Epoch 10 | Train Acc: 83.40129089355469 | Train Loss: 0.8063929677009583\n",
      "\t Val Acc: 45.08406448364258 | Val Loss: 2.0288753509521484\n",
      "================================\n",
      "CPU times: user 3h 24min 59s, sys: 1h 20min 40s, total: 4h 45min 40s\n",
      "Wall time: 3h 46s\n"
     ]
    },
    {
     "name": "stderr",
     "output_type": "stream",
     "text": [
      "\n"
     ]
    }
   ],
   "source": [
    "%%time\n",
    "##%dirsrmal Training\n",
    "scaler = torch.cuda.amp.GradScaler(enabled=True)\n",
    "for epoch in range(utils.EPOCHS):\n",
    "    train_acc, train_loss = train(train_dl, model, criterion, optimizer, scaler, device=device)\n",
    "    torch.save(model, './model.pth')\n",
    "    eval_acc, eval_loss = evaluate(val_dl, model, criterion, device=device)\n",
    "    print(\"\")\n",
    "    print(f\"Epoch {epoch + 1} | Train Acc: {train_acc*100} | Train Loss: {train_loss}\")\n",
    "    print(f\"\\t Val Acc: {eval_acc*100} | Val Loss: {eval_loss}\")\n",
    "    print(\"====\"*8)"
   ]
  },
  {
   "cell_type": "code",
   "execution_count": 17,
   "metadata": {},
   "outputs": [],
   "source": [
    "test = torch.load('./model.pth')"
   ]
  },
  {
   "cell_type": "code",
   "execution_count": 19,
   "metadata": {},
   "outputs": [
    {
     "name": "stderr",
     "output_type": "stream",
     "text": [
      "100%|██████████| 19/19 [01:50<00:00,  5.84s/it]\n"
     ]
    }
   ],
   "source": [
    "a,b = evaluate(val_dl, test, criterion, device)"
   ]
  },
  {
   "cell_type": "code",
   "execution_count": 26,
   "metadata": {},
   "outputs": [
    {
     "name": "stderr",
     "output_type": "stream",
     "text": [
      "Clipping input data to the valid range for imshow with RGB data ([0..1] for floats or [0..255] for integers).\n"
     ]
    },
    {
     "data": {
      "text/plain": [
       "<matplotlib.image.AxesImage at 0x1d139cf10>"
      ]
     },
     "execution_count": 26,
     "metadata": {},
     "output_type": "execute_result"
    },
    {
     "data": {
      "image/png": "[encoded data removed]",
      "text/plain": [
       "<Figure size 432x288 with 1 Axes>"
      ]
     },
     "metadata": {
      "needs_background": "light"
     },
     "output_type": "display_data"
    }
   ],
   "source": [
    "plt.imshow(trainset[0][0].permute(1,2,0))"
   ]
  }
 ],
 "metadata": {
  "interpreter": {
   "hash": "5f4bd170b422f46b2312e3be14e9148719c6561cc76b615fcddc6496a36ef05d"
  },
  "kernelspec": {
   "display_name": "Python 3.9.12 ('base')",
   "language": "python",
   "name": "python3"
  },
  "language_info": {
   "codemirror_mode": {
    "name": "ipython",
    "version": 3
   },
   "file_extension": ".py",
   "mimetype": "text/x-python",
   "name": "python",
   "nbconvert_exporter": "python",
   "pygments_lexer": "ipython3",
   "version": "3.9.12"
  },
  "orig_nbformat": 4
 },
 "nbformat": 4,
 "nbformat_minor": 2
}
