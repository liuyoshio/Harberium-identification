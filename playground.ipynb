{
 "cells": [
  {
   "cell_type": "code",
   "execution_count": null,
   "metadata": {},
   "outputs": [],
   "source": [
    "import cv2\n",
    "import matplotlib.pyplot as plt"
   ]
  },
  {
   "cell_type": "code",
   "execution_count": null,
   "metadata": {},
   "outputs": [],
   "source": [
    "# img = cv2.imread('../../../../Volumes/T7/herbarium-2022-fgvc9/train_images/000/32/00032__001.jpg')"
   ]
  },
  {
   "cell_type": "code",
   "execution_count": null,
   "metadata": {},
   "outputs": [],
   "source": [
    "# gray = cv2.cvtColor(img, cv2.COLOR_BGR2GRAY)\n",
    "# blur = cv2.GaussianBlur(gray, (3,3), 0)\n",
    "\n",
    "# laplacian = cv2.Laplacian(img,cv2.CV_64F)\n",
    "# cv2.imwrite('../laplacian.jpg', laplacian)\n",
    "\n",
    "# dx = cv2.Sobel(gray, cv2.CV_64F, 1, 0, ksize=3)\n",
    "# dy = cv2.Sobel(gray, cv2.CV_64F, 0, 1, ksize=3)\n",
    "# grad = cv2.Sobel(blur, cv2.CV_64F, 1, 1, ksize=5)\n",
    "# cv2.imwrite('../grad.jpg', grad)\n",
    "\n",
    "# canny = cv2.Canny(gray, 100, 200)\n",
    "# cv2.imwrite('../canny.jpg', canny)\n",
    "# canny = canny.astype(float)/255\n",
    "# canny.astype(np.int8)\n",
    "\n",
    "# skeletonized = skeletonize(canny)\n",
    "\n",
    "# skeletonized = skeletonized * 255\n",
    "# cv2.imwrite('../output.jpg', skeletonized)\n",
    "# #grad = exposure.rescale_intensity(grad, in_range='image', out_range=(0,255)).clip(0,255).astype(np.uint8)\n",
    "\n",
    "# temp = cv2.imread('../grad.jpg')\n",
    "# blur = cv2.medianBlur(temp, 3)\n",
    "# cv2.imwrite('../temp.jpg', blur)"
   ]
  }
 ],
 "metadata": {
  "language_info": {
   "name": "python"
  },
  "orig_nbformat": 4
 },
 "nbformat": 4,
 "nbformat_minor": 2
}
