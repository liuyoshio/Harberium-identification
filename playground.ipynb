{
 "cells": [
  {
   "cell_type": "code",
   "execution_count": 2,
   "metadata": {},
   "outputs": [],
   "source": [
    "import cv2\n",
    "import matplotlib.pyplot as plt\n",
    "import numpy as np\n",
    "from skimage.morphology import skeletonize\n",
    "from data_frame import getDataFrame"
   ]
  },
  {
   "cell_type": "code",
   "execution_count": 5,
   "metadata": {},
   "outputs": [
    {
     "data": {
      "text/plain": [
       "True"
      ]
     },
     "execution_count": 5,
     "metadata": {},
     "output_type": "execute_result"
    },
    {
     "data": {
      "image/png": "[encoded data removed]",
      "text/plain": [
       "<Figure size 432x288 with 1 Axes>"
      ]
     },
     "metadata": {
      "needs_background": "light"
     },
     "output_type": "display_data"
    }
   ],
   "source": [
    "img = cv2.imread('../../herbarium-2022-fgvc9/train_images/000/00/00000__002.jpg')\n",
    "gray = cv2.cvtColor(img, cv2.COLOR_BGR2GRAY)\n",
    "blur = cv2.GaussianBlur(gray, (5,5), 0)\n",
    "\n",
    "# sobel filter edge\n",
    "edge = cv2.Sobel(blur, cv2.CV_64F, 1, 1, ksize=5)\n",
    "mask = cv2.inRange(edge, (-1000000), (0))\n",
    "edge[mask>0] = 0\n",
    "mask2 = cv2.inRange(edge,(255), (1000000))\n",
    "edge[mask2>0] = 255\n",
    "edge = edge.astype(np.uint8)\n",
    "\n",
    "# canny edge\n",
    "edge2 = cv2.Canny(gray, 100, 200)\n",
    "\n",
    "kernel = np.ones((3,3), np.uint8)\n",
    "\n",
    "img_erosion = cv2.erode(edge, kernel, ineratoon = 15)\n",
    "img_dilation = cv2.dilate(edge, kernel, iterations=15)\n",
    "\n",
    "\n",
    "biedge = img_dilation.astype(float)/255\n",
    "biedge = biedge.astype(np.uint8)  \n",
    "skel = skeletonize(biedge)\n",
    "plt.imshow(img_dilation, cmap='gray')\n",
    "skel = (skel*255).astype(np.uint8)\n",
    "plt.imshow(skel, cmap='gray')\n",
    "cv2.imwrite('../../skel.jpg', skel)\n",
    "cv2.imwrite('../../edge.jpg', edge)\n",
    "cv2.imwrite('../../gray.jpg', gray)\n",
    "cv2.imwrite('../../edge2.jpg', edge2)\n",
    "cv2.imwrite('../../')\n"
   ]
  },
  {
   "cell_type": "code",
   "execution_count": 30,
   "metadata": {},
   "outputs": [
    {
     "data": {
      "text/plain": [
       "True"
      ]
     },
     "execution_count": 30,
     "metadata": {},
     "output_type": "execute_result"
    }
   ],
   "source": [
    "# enhance contrast\n",
    "img = cv2.imread('../../herbarium-2022-fgvc9/train_images/000/00/00000__002.jpg')\n",
    "lab = cv2.cvtColor(img, cv2.COLOR_BGR2LAB)\n",
    "\n",
    "l_channel = lab[:,:,0]\n",
    "ab_channel = lab[:,:,1:]\n",
    "# Applying CLAHE to L-channel\n",
    "# feel free to try different values for the limit and grid size:\n",
    "clahe = cv2.createCLAHE(clipLimit=2.0, tileGridSize=(8,8))\n",
    "cl = clahe.apply(l_channel)\n",
    "\n",
    "# merge the CLAHE enhanced L-channel with the a and b channel\n",
    "limg = cv2.merge((cl,ab_channel))\n",
    "\n",
    "# Converting image from LAB Color model to BGR color spcae\n",
    "enhanced_img = cv2.cvtColor(limg, cv2.COLOR_LAB2BGR)\n",
    "\n",
    "# Stacking the original image with the enhanced image\n",
    "\n",
    "cv2.imwrite('../../contrast.jpg', enhanced_img)"
   ]
  },
  {
   "cell_type": "code",
   "execution_count": null,
   "metadata": {},
   "outputs": [],
   "source": [
    "# gray = cv2.cvtColor(img, cv2.COLOR_BGR2GRAY)\n",
    "# blur = cv2.GaussianBlur(gray, (3,3), 0)\n",
    "\n",
    "# laplacian = cv2.Laplacian(img,cv2.CV_64F)\n",
    "# cv2.imwrite('../laplacian.jpg', laplacian)\n",
    "\n",
    "# dx = cv2.Sobel(gray, cv2.CV_64F, 1, 0, ksize=3)\n",
    "# dy = cv2.Sobel(gray, cv2.CV_64F, 0, 1, ksize=3)\n",
    "# grad = cv2.Sobel(blur, cv2.CV_64F, 1, 1, ksize=5)\n",
    "# cv2.imwrite('../grad.jpg', grad)\n",
    "\n",
    "# canny = cv2.Canny(gray, 100, 200)\n",
    "# cv2.imwrite('../canny.jpg', canny)\n",
    "# canny = canny.astype(float)/255\n",
    "# canny.astype(np.int8)\n",
    "\n",
    "# skeletonized = skeletonize(canny)\n",
    "\n",
    "# skeletonized = skeletonized * 255\n",
    "# cv2.imwrite('../output.jpg', skeletonized)\n",
    "# #grad = exposure.rescale_intensity(grad, in_range='image', out_range=(0,255)).clip(0,255).astype(np.uint8)\n",
    "\n",
    "# temp = cv2.imread('../grad.jpg')\n",
    "# blur = cv2.medianBlur(temp, 3)\n",
    "# cv2.imwrite('../temp.jpg', blur)"
   ]
  }
 ],
 "metadata": {
  "interpreter": {
   "hash": "ebc67e2c7c4fc7d5b0e150079113f96cf38a5a884d1ca12a1b98fd1a6d739472"
  },
  "kernelspec": {
   "display_name": "Python 3.9.7 ('base')",
   "language": "python",
   "name": "python3"
  },
  "language_info": {
   "codemirror_mode": {
    "name": "ipython",
    "version": 3
   },
   "file_extension": ".py",
   "mimetype": "text/x-python",
   "name": "python",
   "nbconvert_exporter": "python",
   "pygments_lexer": "ipython3",
   "version": "3.9.7"
  },
  "orig_nbformat": 4
 },
 "nbformat": 4,
 "nbformat_minor": 2
}
